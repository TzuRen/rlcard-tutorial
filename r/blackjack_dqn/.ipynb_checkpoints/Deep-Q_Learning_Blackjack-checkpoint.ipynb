{
 "cells": [
  {
   "cell_type": "markdown",
   "metadata": {},
   "source": [
    "___\n",
    "<a href=''> <img src='https://miro.medium.com/max/1000/1*_9abDpNTM9Cbsd2HEXYm9Q.png' width=500 /></a>\n",
    "___\n",
    "# An example of Deep-Q Learning on Blackjack in R\n",
    "\n",
    "### Let's train our first Blackjack in R!"
   ]
  },
  {
   "cell_type": "markdown",
   "metadata": {},
   "source": [
    "## > Install packages\n",
    "To begin with, we install `reticulate`, a package that embeds the Python session within the R session. Specifically, in our tutorial, the `reticulate` is used for virtual environment creation and Python packages connection. Then, we install the package `imager` for the curve plotting of the training performance."
   ]
  },
  {
   "cell_type": "code",
   "execution_count": 1,
   "metadata": {},
   "outputs": [
    {
     "name": "stderr",
     "output_type": "stream",
     "text": [
      "Installing package into ‘/usr/local/lib/R/4.0/site-library’\n",
      "(as ‘lib’ is unspecified)\n",
      "\n"
     ]
    }
   ],
   "source": [
    "install.packages(\"reticulate\")\n",
    "library(reticulate)"
   ]
  },
  {
   "cell_type": "code",
   "execution_count": 2,
   "metadata": {},
   "outputs": [
    {
     "name": "stderr",
     "output_type": "stream",
     "text": [
      "Installing package into ‘/usr/local/lib/R/4.0/site-library’\n",
      "(as ‘lib’ is unspecified)\n",
      "\n",
      "Loading required package: magrittr\n",
      "\n",
      "\n",
      "Attaching package: ‘imager’\n",
      "\n",
      "\n",
      "The following object is masked from ‘package:magrittr’:\n",
      "\n",
      "    add\n",
      "\n",
      "\n",
      "The following objects are masked from ‘package:stats’:\n",
      "\n",
      "    convolve, spectrum\n",
      "\n",
      "\n",
      "The following object is masked from ‘package:graphics’:\n",
      "\n",
      "    frame\n",
      "\n",
      "\n",
      "The following object is masked from ‘package:base’:\n",
      "\n",
      "    save.image\n",
      "\n",
      "\n"
     ]
    }
   ],
   "source": [
    "install.packages(\"imager\")\n",
    "library(imager)"
   ]
  },
  {
   "cell_type": "markdown",
   "metadata": {},
   "source": [
    "## > Virtual Environment\n",
    "Now we create a virtual environment called \"r-rlcard\""
   ]
  },
  {
   "cell_type": "code",
   "execution_count": 3,
   "metadata": {},
   "outputs": [
    {
     "name": "stdout",
     "output_type": "stream",
     "text": [
      "virtualenv: r-rlcard\n"
     ]
    }
   ],
   "source": [
    "virtualenv_create('r-rlcard')"
   ]
  },
  {
   "cell_type": "markdown",
   "metadata": {},
   "source": [
    "Before using the virtual environment `r-rlcard`, let's double-check if it exists."
   ]
  },
  {
   "cell_type": "code",
   "execution_count": 4,
   "metadata": {},
   "outputs": [
    {
     "data": {
      "text/html": [
       "'r-rlcard'"
      ],
      "text/latex": [
       "'r-rlcard'"
      ],
      "text/markdown": [
       "'r-rlcard'"
      ],
      "text/plain": [
       "[1] \"r-rlcard\""
      ]
     },
     "metadata": {},
     "output_type": "display_data"
    }
   ],
   "source": [
    "virtualenv_list()\n",
    "use_virtualenv('r-rlcard', required=TRUE)"
   ]
  },
  {
   "cell_type": "markdown",
   "metadata": {},
   "source": [
    "## >  Import packages\n",
    "First, we use `py_install()` to install `Rlcard` and `Tensorflow` in R. We recommend to use `'pip = TURE'` for installation because the default conda install method may occur issues."
   ]
  },
  {
   "cell_type": "code",
   "execution_count": 5,
   "metadata": {},
   "outputs": [
    {
     "name": "stdout",
     "output_type": "stream",
     "text": [
      "Using virtual environment '/Users/miawan/.virtualenvs/r-rlcard' ...\n",
      "Using virtual environment '/Users/miawan/.virtualenvs/r-rlcard' ...\n"
     ]
    }
   ],
   "source": [
    "py_install('rlcard', pip=TRUE)\n",
    "py_install('rlcard[tensorflow]', pip=TRUE)"
   ]
  },
  {
   "cell_type": "code",
   "execution_count": 6,
   "metadata": {},
   "outputs": [
    {
     "data": {
      "text/html": [
       "'1.14.0'"
      ],
      "text/latex": [
       "'1.14.0'"
      ],
      "text/markdown": [
       "'1.14.0'"
      ],
      "text/plain": [
       "[1] \"1.14.0\""
      ]
     },
     "metadata": {},
     "output_type": "display_data"
    }
   ],
   "source": [
    "rlcard <- import('rlcard')\n",
    "tf <- import('tensorflow')\n",
    "os <- import('os')\n",
    "tf$\"__version__\""
   ]
  },
  {
   "cell_type": "markdown",
   "metadata": {},
   "source": [
    "## > DQN Agent model setup\n",
    "\n",
    "First, we import the modules that are wraped up in rlcard packages. Then, we set the iterations numbers, the initial memory size and how frequently we evaluate the performance. Remember to have `L` to keep the datatype. Finally, we save the performance data and learning curves to our current path as `./log`. "
   ]
  },
  {
   "cell_type": "code",
   "execution_count": 7,
   "metadata": {},
   "outputs": [],
   "source": [
    "# Import the modules.\n",
    "DQNAgent <- rlcard$agents$DQNAgent\n",
    "set_global_seed <- rlcard$utils$set_global_seed\n",
    "tournament <- rlcard$utils$tournament\n",
    "Logger <- rlcard$utils$Logger"
   ]
  },
  {
   "cell_type": "code",
   "execution_count": 8,
   "metadata": {},
   "outputs": [],
   "source": [
    "config <- list(seed = 0L)\n",
    "env = rlcard$make('blackjack', config)\n",
    "eval_env = rlcard$make('blackjack', config)\n",
    "\n",
    "# Set the iterations numbers and how frequently we evaluate the performance.\n",
    "evaluate_every = 100L\n",
    "evaluate_num = 10000L\n",
    "episode_num = 5000L\n",
    "\n",
    "# Set the intial memory size.\n",
    "memory_init_size = 100L\n",
    "\n",
    "# Train the agent every X steps.\n",
    "train_every = 1\n",
    "\n",
    "# Set the paths for saving the logs and learning curves. We save it on our current path.\n",
    "log_dir = './blackjack_dqn_result/'"
   ]
  },
  {
   "cell_type": "markdown",
   "metadata": {},
   "source": [
    "Before starting the training process, we initial a global step and set up the DQN agents. The Logger is used to plot the learning curve and save it to the same directory as we set up for log."
   ]
  },
  {
   "cell_type": "code",
   "execution_count": 9,
   "metadata": {},
   "outputs": [],
   "source": [
    "# Set a global seed.\n",
    "set_global_seed(0L)\n",
    "sess <- tf$Session()\n",
    "\n",
    "# Initialize a global step.\n",
    "global_step = tf$Variable(0L, name='global_step', trainable=F)"
   ]
  },
  {
   "cell_type": "code",
   "execution_count": 10,
   "metadata": {},
   "outputs": [],
   "source": [
    "# Set up the DQN agents.\n",
    "agent = DQNAgent(\n",
    "  sess,\n",
    "  scope='dqn',\n",
    "  action_num=env$action_num,\n",
    "  replay_memory_init_size = memory_init_size,\n",
    "  train_every=train_every,\n",
    "  state_shape=env$state_shape,\n",
    "  mlp_layers=c(10, 10)\n",
    ")\n",
    "\n",
    "env$set_agents(list(agent))\n",
    "eval_env$set_agents(list(agent))"
   ]
  },
  {
   "cell_type": "code",
   "execution_count": 11,
   "metadata": {},
   "outputs": [],
   "source": [
    "# Initialize global variables and a Logger to plot the learning curve.\n",
    "sess$run(tf$global_variables_initializer())\n",
    "logger = Logger(log_dir)"
   ]
  },
  {
   "cell_type": "markdown",
   "metadata": {},
   "source": [
    "## > Train the model"
   ]
  },
  {
   "cell_type": "markdown",
   "metadata": {},
   "source": [
    "\n",
    "Training the model requires complicated interactions with Tensorflow. Thus, we recommend importing a Python script. Specifically, we create a file named `train.py` in the same directory with content as follows.\n",
    "\n",
    "\n",
    "    def train(episode_num, env, eval_env, evaluate_every, evaluate_num, agent, logger, tournament):\n",
    "       for episode in range(episode_num):\n",
    "     \n",
    "         # Generate data from the environment\n",
    "         trajectories, _ = env.run(is_training = True)\n",
    "\n",
    "         # Feed transitions into agent memory, and train the agent\n",
    "         for ts in trajectories[0]:\n",
    "             agent.feed(ts)\n",
    "\n",
    "         # Evaluate the performance. Play with random agents.\n",
    "         if episode % evaluate_every == 0:\n",
    "             logger.log_performance(env.timestep, tournament(eval_env, evaluate_num)[0])"
   ]
  },
  {
   "cell_type": "markdown",
   "metadata": {},
   "source": [
    "Now we use the `train.py` to train the model"
   ]
  },
  {
   "cell_type": "code",
   "execution_count": 12,
   "metadata": {},
   "outputs": [],
   "source": [
    "reticulate::source_python(\"train.py\")\n",
    "train(episode_num, env, eval_env, evaluate_every, evaluate_num, agent, logger, tournament)"
   ]
  },
  {
   "cell_type": "markdown",
   "metadata": {},
   "source": [
    "Close files in the logger and Plot the learning curve in our file."
   ]
  },
  {
   "cell_type": "code",
   "execution_count": 13,
   "metadata": {},
   "outputs": [],
   "source": [
    "logger$close_files()\n",
    "logger$plot('DQN')"
   ]
  },
  {
   "cell_type": "markdown",
   "metadata": {},
   "source": [
    "Let's display our training performace and the plot."
   ]
  },
  {
   "cell_type": "code",
   "execution_count": 14,
   "metadata": {},
   "outputs": [
    {
     "data": {
      "text/html": [
       "<table>\n",
       "<caption>A data.frame: 50 × 2</caption>\n",
       "<thead>\n",
       "\t<tr><th scope=col>timestep</th><th scope=col>reward</th></tr>\n",
       "\t<tr><th scope=col>&lt;int&gt;</th><th scope=col>&lt;dbl&gt;</th></tr>\n",
       "</thead>\n",
       "<tbody>\n",
       "\t<tr><td>   1</td><td>-0.7364</td></tr>\n",
       "\t<tr><td> 131</td><td>-0.1676</td></tr>\n",
       "\t<tr><td> 263</td><td>-0.1382</td></tr>\n",
       "\t<tr><td> 396</td><td>-0.1028</td></tr>\n",
       "\t<tr><td> 539</td><td>-0.0990</td></tr>\n",
       "\t<tr><td> 677</td><td>-0.0760</td></tr>\n",
       "\t<tr><td> 824</td><td>-0.0640</td></tr>\n",
       "\t<tr><td> 968</td><td>-0.0787</td></tr>\n",
       "\t<tr><td>1105</td><td>-0.0908</td></tr>\n",
       "\t<tr><td>1248</td><td>-0.0808</td></tr>\n",
       "\t<tr><td>1372</td><td>-0.0824</td></tr>\n",
       "\t<tr><td>1503</td><td>-0.0726</td></tr>\n",
       "\t<tr><td>1627</td><td>-0.0788</td></tr>\n",
       "\t<tr><td>1768</td><td>-0.0492</td></tr>\n",
       "\t<tr><td>1899</td><td>-0.0876</td></tr>\n",
       "\t<tr><td>2036</td><td>-0.0838</td></tr>\n",
       "\t<tr><td>2165</td><td>-0.0876</td></tr>\n",
       "\t<tr><td>2299</td><td>-0.0849</td></tr>\n",
       "\t<tr><td>2442</td><td>-0.0675</td></tr>\n",
       "\t<tr><td>2570</td><td>-0.0712</td></tr>\n",
       "\t<tr><td>2704</td><td>-0.0769</td></tr>\n",
       "\t<tr><td>2847</td><td>-0.0522</td></tr>\n",
       "\t<tr><td>2991</td><td>-0.0606</td></tr>\n",
       "\t<tr><td>3130</td><td>-0.0674</td></tr>\n",
       "\t<tr><td>3276</td><td>-0.0675</td></tr>\n",
       "\t<tr><td>3409</td><td>-0.0554</td></tr>\n",
       "\t<tr><td>3549</td><td>-0.0767</td></tr>\n",
       "\t<tr><td>3693</td><td>-0.0708</td></tr>\n",
       "\t<tr><td>3824</td><td>-0.0802</td></tr>\n",
       "\t<tr><td>3966</td><td>-0.0725</td></tr>\n",
       "\t<tr><td>4108</td><td>-0.0745</td></tr>\n",
       "\t<tr><td>4248</td><td>-0.0715</td></tr>\n",
       "\t<tr><td>4393</td><td>-0.0666</td></tr>\n",
       "\t<tr><td>4548</td><td>-0.0683</td></tr>\n",
       "\t<tr><td>4688</td><td>-0.0683</td></tr>\n",
       "\t<tr><td>4835</td><td>-0.0627</td></tr>\n",
       "\t<tr><td>4967</td><td>-0.0577</td></tr>\n",
       "\t<tr><td>5113</td><td>-0.0667</td></tr>\n",
       "\t<tr><td>5269</td><td>-0.0526</td></tr>\n",
       "\t<tr><td>5416</td><td>-0.0499</td></tr>\n",
       "\t<tr><td>5550</td><td>-0.0656</td></tr>\n",
       "\t<tr><td>5690</td><td>-0.0462</td></tr>\n",
       "\t<tr><td>5833</td><td>-0.0751</td></tr>\n",
       "\t<tr><td>5980</td><td>-0.0637</td></tr>\n",
       "\t<tr><td>6133</td><td>-0.0789</td></tr>\n",
       "\t<tr><td>6271</td><td>-0.0757</td></tr>\n",
       "\t<tr><td>6413</td><td>-0.0682</td></tr>\n",
       "\t<tr><td>6559</td><td>-0.0688</td></tr>\n",
       "\t<tr><td>6697</td><td>-0.0787</td></tr>\n",
       "\t<tr><td>6834</td><td>-0.0671</td></tr>\n",
       "</tbody>\n",
       "</table>\n"
      ],
      "text/latex": [
       "A data.frame: 50 × 2\n",
       "\\begin{tabular}{ll}\n",
       " timestep & reward\\\\\n",
       " <int> & <dbl>\\\\\n",
       "\\hline\n",
       "\t    1 & -0.7364\\\\\n",
       "\t  131 & -0.1676\\\\\n",
       "\t  263 & -0.1382\\\\\n",
       "\t  396 & -0.1028\\\\\n",
       "\t  539 & -0.0990\\\\\n",
       "\t  677 & -0.0760\\\\\n",
       "\t  824 & -0.0640\\\\\n",
       "\t  968 & -0.0787\\\\\n",
       "\t 1105 & -0.0908\\\\\n",
       "\t 1248 & -0.0808\\\\\n",
       "\t 1372 & -0.0824\\\\\n",
       "\t 1503 & -0.0726\\\\\n",
       "\t 1627 & -0.0788\\\\\n",
       "\t 1768 & -0.0492\\\\\n",
       "\t 1899 & -0.0876\\\\\n",
       "\t 2036 & -0.0838\\\\\n",
       "\t 2165 & -0.0876\\\\\n",
       "\t 2299 & -0.0849\\\\\n",
       "\t 2442 & -0.0675\\\\\n",
       "\t 2570 & -0.0712\\\\\n",
       "\t 2704 & -0.0769\\\\\n",
       "\t 2847 & -0.0522\\\\\n",
       "\t 2991 & -0.0606\\\\\n",
       "\t 3130 & -0.0674\\\\\n",
       "\t 3276 & -0.0675\\\\\n",
       "\t 3409 & -0.0554\\\\\n",
       "\t 3549 & -0.0767\\\\\n",
       "\t 3693 & -0.0708\\\\\n",
       "\t 3824 & -0.0802\\\\\n",
       "\t 3966 & -0.0725\\\\\n",
       "\t 4108 & -0.0745\\\\\n",
       "\t 4248 & -0.0715\\\\\n",
       "\t 4393 & -0.0666\\\\\n",
       "\t 4548 & -0.0683\\\\\n",
       "\t 4688 & -0.0683\\\\\n",
       "\t 4835 & -0.0627\\\\\n",
       "\t 4967 & -0.0577\\\\\n",
       "\t 5113 & -0.0667\\\\\n",
       "\t 5269 & -0.0526\\\\\n",
       "\t 5416 & -0.0499\\\\\n",
       "\t 5550 & -0.0656\\\\\n",
       "\t 5690 & -0.0462\\\\\n",
       "\t 5833 & -0.0751\\\\\n",
       "\t 5980 & -0.0637\\\\\n",
       "\t 6133 & -0.0789\\\\\n",
       "\t 6271 & -0.0757\\\\\n",
       "\t 6413 & -0.0682\\\\\n",
       "\t 6559 & -0.0688\\\\\n",
       "\t 6697 & -0.0787\\\\\n",
       "\t 6834 & -0.0671\\\\\n",
       "\\end{tabular}\n"
      ],
      "text/markdown": [
       "\n",
       "A data.frame: 50 × 2\n",
       "\n",
       "| timestep &lt;int&gt; | reward &lt;dbl&gt; |\n",
       "|---|---|\n",
       "|    1 | -0.7364 |\n",
       "|  131 | -0.1676 |\n",
       "|  263 | -0.1382 |\n",
       "|  396 | -0.1028 |\n",
       "|  539 | -0.0990 |\n",
       "|  677 | -0.0760 |\n",
       "|  824 | -0.0640 |\n",
       "|  968 | -0.0787 |\n",
       "| 1105 | -0.0908 |\n",
       "| 1248 | -0.0808 |\n",
       "| 1372 | -0.0824 |\n",
       "| 1503 | -0.0726 |\n",
       "| 1627 | -0.0788 |\n",
       "| 1768 | -0.0492 |\n",
       "| 1899 | -0.0876 |\n",
       "| 2036 | -0.0838 |\n",
       "| 2165 | -0.0876 |\n",
       "| 2299 | -0.0849 |\n",
       "| 2442 | -0.0675 |\n",
       "| 2570 | -0.0712 |\n",
       "| 2704 | -0.0769 |\n",
       "| 2847 | -0.0522 |\n",
       "| 2991 | -0.0606 |\n",
       "| 3130 | -0.0674 |\n",
       "| 3276 | -0.0675 |\n",
       "| 3409 | -0.0554 |\n",
       "| 3549 | -0.0767 |\n",
       "| 3693 | -0.0708 |\n",
       "| 3824 | -0.0802 |\n",
       "| 3966 | -0.0725 |\n",
       "| 4108 | -0.0745 |\n",
       "| 4248 | -0.0715 |\n",
       "| 4393 | -0.0666 |\n",
       "| 4548 | -0.0683 |\n",
       "| 4688 | -0.0683 |\n",
       "| 4835 | -0.0627 |\n",
       "| 4967 | -0.0577 |\n",
       "| 5113 | -0.0667 |\n",
       "| 5269 | -0.0526 |\n",
       "| 5416 | -0.0499 |\n",
       "| 5550 | -0.0656 |\n",
       "| 5690 | -0.0462 |\n",
       "| 5833 | -0.0751 |\n",
       "| 5980 | -0.0637 |\n",
       "| 6133 | -0.0789 |\n",
       "| 6271 | -0.0757 |\n",
       "| 6413 | -0.0682 |\n",
       "| 6559 | -0.0688 |\n",
       "| 6697 | -0.0787 |\n",
       "| 6834 | -0.0671 |\n",
       "\n"
      ],
      "text/plain": [
       "   timestep reward \n",
       "1     1     -0.7364\n",
       "2   131     -0.1676\n",
       "3   263     -0.1382\n",
       "4   396     -0.1028\n",
       "5   539     -0.0990\n",
       "6   677     -0.0760\n",
       "7   824     -0.0640\n",
       "8   968     -0.0787\n",
       "9  1105     -0.0908\n",
       "10 1248     -0.0808\n",
       "11 1372     -0.0824\n",
       "12 1503     -0.0726\n",
       "13 1627     -0.0788\n",
       "14 1768     -0.0492\n",
       "15 1899     -0.0876\n",
       "16 2036     -0.0838\n",
       "17 2165     -0.0876\n",
       "18 2299     -0.0849\n",
       "19 2442     -0.0675\n",
       "20 2570     -0.0712\n",
       "21 2704     -0.0769\n",
       "22 2847     -0.0522\n",
       "23 2991     -0.0606\n",
       "24 3130     -0.0674\n",
       "25 3276     -0.0675\n",
       "26 3409     -0.0554\n",
       "27 3549     -0.0767\n",
       "28 3693     -0.0708\n",
       "29 3824     -0.0802\n",
       "30 3966     -0.0725\n",
       "31 4108     -0.0745\n",
       "32 4248     -0.0715\n",
       "33 4393     -0.0666\n",
       "34 4548     -0.0683\n",
       "35 4688     -0.0683\n",
       "36 4835     -0.0627\n",
       "37 4967     -0.0577\n",
       "38 5113     -0.0667\n",
       "39 5269     -0.0526\n",
       "40 5416     -0.0499\n",
       "41 5550     -0.0656\n",
       "42 5690     -0.0462\n",
       "43 5833     -0.0751\n",
       "44 5980     -0.0637\n",
       "45 6133     -0.0789\n",
       "46 6271     -0.0757\n",
       "47 6413     -0.0682\n",
       "48 6559     -0.0688\n",
       "49 6697     -0.0787\n",
       "50 6834     -0.0671"
      ]
     },
     "metadata": {},
     "output_type": "display_data"
    }
   ],
   "source": [
    "txt <- read.csv(file='./blackjack_dqn_result/performance.csv')\n",
    "txt"
   ]
  },
  {
   "cell_type": "code",
   "execution_count": 16,
   "metadata": {},
   "outputs": [
    {
     "data": {
      "image/png": "[encoded data removed]",
      "text/plain": [
       "Plot with title “”"
      ]
     },
     "metadata": {
      "image/png": {
       "height": 420,
       "width": 420
      }
     },
     "output_type": "display_data"
    }
   ],
   "source": [
    "library(imager)\n",
    "load.image(\"./blackjack_dqn_result/fig.png\") %>% plot"
   ]
  },
  {
   "cell_type": "code",
   "execution_count": 17,
   "metadata": {},
   "outputs": [
    {
     "data": {
      "text/html": [
       "'models/blackjack_dqn/model'"
      ],
      "text/latex": [
       "'models/blackjack\\_dqn/model'"
      ],
      "text/markdown": [
       "'models/blackjack_dqn/model'"
      ],
      "text/plain": [
       "[1] \"models/blackjack_dqn/model\""
      ]
     },
     "metadata": {},
     "output_type": "display_data"
    }
   ],
   "source": [
    "save_dir = 'models/blackjack_dqn'\n",
    "if (!dir.exists(save_dir)){\n",
    "    os$makedirs(save_dir)}\n",
    "saver = tf$train$Saver()\n",
    "saver$save(sess, os$path$join(save_dir, 'model'))"
   ]
  },
  {
   "cell_type": "markdown",
   "metadata": {},
   "source": [
    "##### In Blackjack, the player will get a payoff at the end of the game: \n",
    "1 if the player wins, -1 if the player loses, and 0 if it is a tie. The performance is measured by the average payoff the player obtains by playing 10000 episodes. The above example shows that the agent achieves better and better performance during training. The logs and learning curves are saved in `./experiments/blackjack_dqn_result/.`"
   ]
  },
  {
   "cell_type": "markdown",
   "metadata": {},
   "source": [
    "### Now you have your trained Blackjack game! "
   ]
  }
 ],
 "metadata": {
  "kernelspec": {
   "display_name": "R",
   "language": "R",
   "name": "ir"
  },
  "language_info": {
   "codemirror_mode": "r",
   "file_extension": ".r",
   "mimetype": "text/x-r-source",
   "name": "R",
   "pygments_lexer": "r",
   "version": "4.0.0"
  }
 },
 "nbformat": 4,
 "nbformat_minor": 4
}
