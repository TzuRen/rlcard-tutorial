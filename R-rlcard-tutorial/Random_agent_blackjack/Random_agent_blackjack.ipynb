{
 "cells": [
  {
   "cell_type": "markdown",
   "metadata": {},
   "source": [
    "___\n",
    "<a href=''> <img src='https://miro.medium.com/max/1000/1*_9abDpNTM9Cbsd2HEXYm9Q.png' width=500 /></a>\n",
    "___\n",
    "# An example of applying a random agent on Blackjack in R\n",
    "\n",
    "### Let's train our first Blackjack in R!"
   ]
  },
  {
   "cell_type": "markdown",
   "metadata": {},
   "source": [
    "## > Install packages\n",
    "To begin with, we install `reticulate`, a package that embeds the Python session within the R session. Specifically, in our tutorial, the `reticulate` is used for virtual environment creation and Python packages connection. Then, we install the package `imager` for the curve plotting of the training performance."
   ]
  },
  {
   "cell_type": "code",
   "execution_count": 1,
   "metadata": {},
   "outputs": [
    {
     "name": "stderr",
     "output_type": "stream",
     "text": [
      "Installing package into ‘/usr/local/lib/R/4.0/site-library’\n",
      "(as ‘lib’ is unspecified)\n",
      "\n"
     ]
    }
   ],
   "source": [
    "install.packages(\"reticulate\")\n",
    "library(reticulate)"
   ]
  },
  {
   "cell_type": "code",
   "execution_count": 2,
   "metadata": {},
   "outputs": [
    {
     "name": "stderr",
     "output_type": "stream",
     "text": [
      "Installing package into ‘/usr/local/lib/R/4.0/site-library’\n",
      "(as ‘lib’ is unspecified)\n",
      "\n",
      "Loading required package: magrittr\n",
      "\n",
      "\n",
      "Attaching package: ‘imager’\n",
      "\n",
      "\n",
      "The following object is masked from ‘package:magrittr’:\n",
      "\n",
      "    add\n",
      "\n",
      "\n",
      "The following objects are masked from ‘package:stats’:\n",
      "\n",
      "    convolve, spectrum\n",
      "\n",
      "\n",
      "The following object is masked from ‘package:graphics’:\n",
      "\n",
      "    frame\n",
      "\n",
      "\n",
      "The following object is masked from ‘package:base’:\n",
      "\n",
      "    save.image\n",
      "\n",
      "\n"
     ]
    }
   ],
   "source": [
    "install.packages(\"imager\")\n",
    "library(imager)"
   ]
  },
  {
   "cell_type": "markdown",
   "metadata": {},
   "source": [
    "## > Virtual Environment\n",
    "Now we create a virtual environment called \"r-rlcard\""
   ]
  },
  {
   "cell_type": "code",
   "execution_count": 3,
   "metadata": {},
   "outputs": [
    {
     "name": "stdout",
     "output_type": "stream",
     "text": [
      "virtualenv: r-rlcard\n"
     ]
    }
   ],
   "source": [
    "virtualenv_create('r-rlcard')"
   ]
  },
  {
   "cell_type": "markdown",
   "metadata": {},
   "source": [
    "Before using the virtual environment `r-rlcard`, let's double-check if it exists."
   ]
  },
  {
   "cell_type": "code",
   "execution_count": 4,
   "metadata": {},
   "outputs": [
    {
     "data": {
      "text/html": [
       "'r-rlcard'"
      ],
      "text/latex": [
       "'r-rlcard'"
      ],
      "text/markdown": [
       "'r-rlcard'"
      ],
      "text/plain": [
       "[1] \"r-rlcard\""
      ]
     },
     "metadata": {},
     "output_type": "display_data"
    }
   ],
   "source": [
    "virtualenv_list()\n",
    "use_virtualenv('r-rlcard', required=TRUE)"
   ]
  },
  {
   "cell_type": "markdown",
   "metadata": {},
   "source": [
    "## >  Import packages\n",
    "First, we use `py_install()` to install `Rlcard` and `Tensorflow` in R. We recommend to use `'pip = TURE'` for installation because the default conda install method may occur issues."
   ]
  },
  {
   "cell_type": "code",
   "execution_count": 5,
   "metadata": {},
   "outputs": [
    {
     "name": "stdout",
     "output_type": "stream",
     "text": [
      "Using virtual environment '/Users/miawan/.virtualenvs/r-rlcard' ...\n",
      "Using virtual environment '/Users/miawan/.virtualenvs/r-rlcard' ...\n"
     ]
    }
   ],
   "source": [
    "py_install('rlcard', pip=TRUE)\n",
    "py_install('rlcard[tensorflow]', pip=TRUE)"
   ]
  },
  {
   "cell_type": "code",
   "execution_count": 6,
   "metadata": {},
   "outputs": [
    {
     "data": {
      "text/html": [
       "'1.14.0'"
      ],
      "text/latex": [
       "'1.14.0'"
      ],
      "text/markdown": [
       "'1.14.0'"
      ],
      "text/plain": [
       "[1] \"1.14.0\""
      ]
     },
     "metadata": {},
     "output_type": "display_data"
    }
   ],
   "source": [
    "rlcard <- import('rlcard')\n",
    "tf <- import('tensorflow')\n",
    "os <- import('os')\n",
    "tf$\"__version__\""
   ]
  },
  {
   "cell_type": "code",
   "execution_count": 7,
   "metadata": {},
   "outputs": [],
   "source": [
    "# Import the modules.\n",
    "rlcard <- import('rlcard')\n",
    "RandomAgent <- rlcard$agents$RandomAgent\n",
    "set_global_seed <- rlcard$utils$set_global_seed"
   ]
  },
  {
   "cell_type": "code",
   "execution_count": 8,
   "metadata": {},
   "outputs": [],
   "source": [
    "# Make environment\n",
    "config <- list(seed = 0L)\n",
    "env = rlcard$make('blackjack', config)\n",
    "episode_num = 2L"
   ]
  },
  {
   "cell_type": "code",
   "execution_count": 9,
   "metadata": {},
   "outputs": [],
   "source": [
    "# Set a global seed.\n",
    "set_global_seed(0L)"
   ]
  },
  {
   "cell_type": "code",
   "execution_count": 10,
   "metadata": {},
   "outputs": [],
   "source": [
    "# Set up agents\n",
    "agent_0 <- RandomAgent(action_num=env$action_num)\n",
    "env$set_agents(list(agent_0))"
   ]
  },
  {
   "cell_type": "markdown",
   "metadata": {},
   "source": [
    "## > Train the model"
   ]
  },
  {
   "cell_type": "markdown",
   "metadata": {},
   "source": [
    "Training the model requires complicated interactions with Tensorflow. Thus, we recommend importing a Python script. Specifically, we create a file named `train.py` in the same directory with content as follows.\n",
    "\n",
    "\n",
    " \n",
    "  `def train(episode_num, env, agent_0):\n",
    "   for episode in range(episode_num):\n",
    "\n",
    "    # Generate data from the environment\n",
    "    trajectories, _ = env.run(is_training=False)\n",
    "\n",
    "    # Print out the trajectories\n",
    "    print('\\nEpisode {}'.format(episode))\n",
    "    for ts in trajectories[0]:\n",
    "        print('State: {}, Action: {}, Reward: {}, Next State: {}, Done: {}'.format(ts[0], ts[1], ts[2], ts[3], ts[4]))`"
   ]
  },
  {
   "cell_type": "code",
   "execution_count": 11,
   "metadata": {},
   "outputs": [],
   "source": [
    "reticulate::source_python(\"train.py\")\n",
    "train(episode_num, env, agent_0)"
   ]
  },
  {
   "cell_type": "markdown",
   "metadata": {},
   "source": [
    "The expected output should look like something as follows:\n",
    "\n",
    "#### Episode 0\n",
    "   State: {'obs': array([12,  7]), 'legal_actions': [0, 1]}, Action: 0, Reward: 0, Next State: {'obs': array([21,  7]), 'legal_actions': [0, 1]}, Done: False\n",
    "\n",
    "   State: {'obs': array([21,  7]), 'legal_actions': [0, 1]}, Action: 0, Reward: -1, Next State: {'obs': array([22, 18]), 'legal_actions': [0, 1]}, Done: True\n",
    "\n",
    "#### Episode 1\n",
    "   State: {'obs': array([16, 10]), 'legal_actions': [0, 1]}, Action: 1, Reward: -1, Next State: {'obs': array([16, 21]), 'legal_actions': [0, 1]}, Done: True"
   ]
  },
  {
   "cell_type": "markdown",
   "metadata": {},
   "source": [
    "Note that the states and actions are wrapped by env in Blackjack. In this example, the [12, 7] suggests the current player obtains score 12 while the card that faces up in the dealer's hand has score 7. Action 0 means \"hit\" while action 1 means \"stand\". Reward 1 suggests the player wins while reward -1 suggests the dealer wins. Reward 0 suggests a tie. The above data can be directly fed into a RL algorithm for training."
   ]
  }
 ],
 "metadata": {
  "kernelspec": {
   "display_name": "R",
   "language": "R",
   "name": "ir"
  },
  "language_info": {
   "codemirror_mode": "r",
   "file_extension": ".r",
   "mimetype": "text/x-r-source",
   "name": "R",
   "pygments_lexer": "r",
   "version": "4.0.0"
  }
 },
 "nbformat": 4,
 "nbformat_minor": 4
}
